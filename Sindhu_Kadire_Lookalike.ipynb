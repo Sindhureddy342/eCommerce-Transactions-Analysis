{
 "cells": [
  {
   "cell_type": "code",
   "execution_count": 33,
   "id": "b1cfba68-56a7-4ed7-8e77-2775756b11fa",
   "metadata": {},
   "outputs": [],
   "source": [
    "import pandas as pd\n",
    "import numpy as np\n",
    "from sklearn.metrics.pairwise import cosine_similarity\n",
    "from sklearn.preprocessing import LabelEncoder, StandardScaler"
   ]
  },
  {
   "cell_type": "code",
   "execution_count": 35,
   "id": "806368e6-54fa-4726-bb2a-794d8cbd8bd5",
   "metadata": {},
   "outputs": [],
   "source": [
    "cust=pd.read_csv(\"/Users/kadiresindhureddy/Downloads/Customers.csv\")\n",
    "prod=pd.read_csv(\"/Users/kadiresindhureddy/Downloads/Products.csv\")\n",
    "trans=pd.read_csv(\"/Users/kadiresindhureddy/Downloads/Transactions.csv\")"
   ]
  },
  {
   "cell_type": "code",
   "execution_count": 37,
   "id": "f5497509-32e7-40ee-ac87-412fd9695e1b",
   "metadata": {},
   "outputs": [],
   "source": [
    "# Convert date columns to datetime format\n",
    "cust['SignupDate'] = pd.to_datetime(cust['SignupDate'])\n",
    "trans['TransactionDate'] = pd.to_datetime(trans['TransactionDate'])\n"
   ]
  },
  {
   "cell_type": "code",
   "execution_count": 39,
   "id": "010ffd0d-d588-4bd8-ba64-29433daa9a11",
   "metadata": {},
   "outputs": [],
   "source": [
    "# Encode categorical variables (Region)\n",
    "label_encoder = LabelEncoder()\n",
    "cust['Region'] = label_encoder.fit_transform(cust['Region'])"
   ]
  },
  {
   "cell_type": "code",
   "execution_count": 41,
   "id": "0251024b-51b1-4501-bc09-46d133837f36",
   "metadata": {},
   "outputs": [],
   "source": [
    "# Extract year from signup date as a numeric feature\n",
    "cust['SignupYear'] = cust['SignupDate'].dt.year"
   ]
  },
  {
   "cell_type": "code",
   "execution_count": 43,
   "id": "60c01bf7-cbf8-4043-a87c-6f3ffda0cea4",
   "metadata": {},
   "outputs": [],
   "source": [
    "# Drop unnecessary columns\n",
    "cust = cust.drop(columns=['SignupDate', 'CustomerName'])\n"
   ]
  },
  {
   "cell_type": "code",
   "execution_count": 45,
   "id": "fee64863-3300-4c16-a0e8-e4bd02bf8a48",
   "metadata": {},
   "outputs": [],
   "source": [
    "# Create customer-product purchase matrix\n",
    "customer_product_matrix = trans.pivot_table(\n",
    "    index='CustomerID', \n",
    "    columns='ProductID', \n",
    "    values='Quantity', \n",
    "    aggfunc='sum', \n",
    "    fill_value=0\n",
    ")"
   ]
  },
  {
   "cell_type": "code",
   "execution_count": 47,
   "id": "9f9a2f72-59b1-4864-b2e0-52db66fa0721",
   "metadata": {},
   "outputs": [],
   "source": [
    "# Merge customer demographic features with the purchase matrix\n",
    "features = cust.set_index('CustomerID').join(customer_product_matrix, how='left').fillna(0)\n",
    "\n",
    "# Ensure all features are numeric\n",
    "features_numeric = features.select_dtypes(include=[np.number])\n",
    "\n",
    "# Standardize the feature values to normalize different scales\n",
    "scaler = StandardScaler()\n",
    "features_scaled = scaler.fit_transform(features_numeric)"
   ]
  },
  {
   "cell_type": "code",
   "execution_count": 49,
   "id": "d01af566-7051-41f0-a1bc-8795a3689fdd",
   "metadata": {},
   "outputs": [],
   "source": [
    "# Calculate cosine similarity\n",
    "similarity_matrix = cosine_similarity(features_scaled)\n",
    "similarity_df = pd.DataFrame(similarity_matrix, index=features.index, columns=features.index)"
   ]
  },
  {
   "cell_type": "code",
   "execution_count": 51,
   "id": "ea59719d-2080-4487-84b7-83fbdd0689c5",
   "metadata": {},
   "outputs": [],
   "source": [
    "# Generate top 3 lookalike recommendations for each customer\n",
    "lookalike_map = {}\n",
    "for customer_id in similarity_df.index:\n",
    "    similar_customers = (\n",
    "        similarity_df.loc[customer_id]\n",
    "        .sort_values(ascending=False)[1:4]  # Exclude the customer itself\n",
    "        .items()\n",
    "    )\n",
    "    lookalike_map[customer_id] = [(sim_id, round(score, 4)) for sim_id, score in similar_customers]\n"
   ]
  },
  {
   "cell_type": "code",
   "execution_count": 53,
   "id": "2520bddd-81d7-41bf-9e0d-166cf1a325a2",
   "metadata": {},
   "outputs": [],
   "source": [
    "# Save lookalikes for the first 20 customers\n",
    "lookalike_subset = {k: lookalike_map[k] for k in list(lookalike_map.keys())[:20]}\n",
    "\n",
    "# Convert lookalike subset to a DataFrame for saving\n",
    "lookalike_df = pd.DataFrame([\n",
    "    {'cust_id': cust_id, 'lookalikes': lookalikes}\n",
    "    for cust_id, lookalikes in lookalike_subset.items()\n",
    "])\n",
    "lookalike_df.to_csv(\"Lookalike.csv\", index=False)"
   ]
  },
  {
   "cell_type": "code",
   "execution_count": 55,
   "id": "1fdad718-09b1-4841-b3b7-5a97e26ea70d",
   "metadata": {},
   "outputs": [
    {
     "name": "stdout",
     "output_type": "stream",
     "text": [
      "Top 3 Lookalikes for the first 20 Customers:\n",
      "   cust_id                                         lookalikes\n",
      "0    C0001  [(C0104, 0.3981), (C0194, 0.3768), (C0199, 0.3...\n",
      "1    C0002  [(C0030, 0.376), (C0091, 0.3636), (C0173, 0.33...\n",
      "2    C0003  [(C0181, 0.4821), (C0134, 0.4332), (C0144, 0.4...\n",
      "3    C0004  [(C0070, 0.3527), (C0175, 0.3107), (C0132, 0.2...\n",
      "4    C0005  [(C0023, 0.4778), (C0096, 0.4646), (C0119, 0.3...\n",
      "5    C0006  [(C0040, 0.4289), (C0058, 0.3552), (C0178, 0.3...\n",
      "6    C0007  [(C0079, 0.6116), (C0118, 0.4536), (C0020, 0.3...\n",
      "7    C0008  [(C0144, 0.3346), (C0169, 0.2787), (C0091, 0.2...\n",
      "8    C0009  [(C0140, 0.5469), (C0162, 0.506), (C0180, 0.46...\n",
      "9    C0010  [(C0094, 0.5095), (C0092, 0.3897), (C0143, 0.3...\n",
      "10   C0011  [(C0135, 0.5099), (C0120, 0.3756), (C0107, 0.3...\n",
      "11   C0012  [(C0164, 0.4762), (C0158, 0.3815), (C0173, 0.3...\n",
      "12   C0013  [(C0169, 0.4534), (C0092, 0.3533), (C0099, 0.3...\n",
      "13   C0014  [(C0128, 0.8449), (C0159, 0.6801), (C0058, 0.4...\n",
      "14   C0015  [(C0073, 0.7121), (C0036, 0.5933), (C0059, 0.4...\n",
      "15   C0016  [(C0187, 0.6392), (C0064, 0.5313), (C0052, 0.4...\n",
      "16   C0017  [(C0071, 0.441), (C0037, 0.3571), (C0024, 0.35...\n",
      "17   C0018  [(C0177, 0.3622), (C0115, 0.3229), (C0059, 0.3...\n",
      "18   C0019  [(C0064, 0.4001), (C0024, 0.3794), (C0084, 0.3...\n",
      "19   C0020  [(C0026, 0.6346), (C0104, 0.4348), (C0007, 0.3...\n"
     ]
    }
   ],
   "source": [
    "# Print results for the first 20 customers\n",
    "print(\"Top 3 Lookalikes for the first 20 Customers:\")\n",
    "print(lookalike_df.head(20))"
   ]
  },
  {
   "cell_type": "code",
   "execution_count": null,
   "id": "7ee8f9cd-d01c-4dd9-a22f-897f8bf4962e",
   "metadata": {},
   "outputs": [],
   "source": []
  }
 ],
 "metadata": {
  "kernelspec": {
   "display_name": "Python 3 (ipykernel)",
   "language": "python",
   "name": "python3"
  },
  "language_info": {
   "codemirror_mode": {
    "name": "ipython",
    "version": 3
   },
   "file_extension": ".py",
   "mimetype": "text/x-python",
   "name": "python",
   "nbconvert_exporter": "python",
   "pygments_lexer": "ipython3",
   "version": "3.12.2"
  }
 },
 "nbformat": 4,
 "nbformat_minor": 5
}
